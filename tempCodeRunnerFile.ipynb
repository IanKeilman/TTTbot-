# Plot the original data and the best fit line
plt.figure(figsize=(10, 6))
plt.scatter(nsim_values, draws_sum, color='blue', label='Original Data')
plt.plot(x_fit, y_fit, color='red', label=f'Best Fit (Degree {best_degree})')
plt.fill_between(x_fit, ci_lower, ci_upper, color='gray', alpha=0.3, label='95% Confidence Interval')

# Plot the simulated unique counts
plt.plot(range(1, max_samples + 1, step), unique_counts, label='Simulated Unique Elements', color='orange')

# Plot the regression line from the best model on the simulated data
y_fit_simulation = best_model(range(1, max_samples + 1, step))
plt.plot(range(1, max_samples + 1, step), y_fit_simulation, label=f'Best Fit on Simulation (Degree {best_degree})', color='green')

# Customize the plot
plt.xlabel('Number of Elements Sampled (x)')
plt.ylabel('Total Unique Elements Sampled (y)')
plt.title('Unique Elements Sampled vs. Total Samples (Simulation and Original Data)')
plt.legend()
plt.grid()
plt.show()